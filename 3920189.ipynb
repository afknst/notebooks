{
 "cells": [
  {
   "cell_type": "code",
   "execution_count": 1,
   "metadata": {
    "ExecuteTime": {
     "end_time": "2020-11-27T17:38:00.426265Z",
     "start_time": "2020-11-27T17:38:00.357900Z"
    }
   },
   "outputs": [],
   "source": [
    "import numpy as np"
   ]
  },
  {
   "cell_type": "code",
   "execution_count": 2,
   "metadata": {
    "ExecuteTime": {
     "end_time": "2020-11-27T17:38:00.430953Z",
     "start_time": "2020-11-27T17:38:00.427777Z"
    }
   },
   "outputs": [],
   "source": [
    "def A(n):\n",
    "    while True:\n",
    "        _A = np.random.randint(1, n, size=n)\n",
    "        _A[-1] = n * (n - 1) / 2 - (np.sum(_A) - _A[-1])\n",
    "        if _A[-1] > 0:\n",
    "            return _A"
   ]
  },
  {
   "cell_type": "code",
   "execution_count": 3,
   "metadata": {
    "ExecuteTime": {
     "end_time": "2020-11-27T17:38:00.436201Z",
     "start_time": "2020-11-27T17:38:00.432933Z"
    }
   },
   "outputs": [],
   "source": [
    "def AB(n):\n",
    "    _A = A(n)\n",
    "    _B = (n - 1) - _A\n",
    "    return _A, _B"
   ]
  },
  {
   "cell_type": "code",
   "execution_count": 4,
   "metadata": {
    "ExecuteTime": {
     "end_time": "2020-11-27T17:38:00.443102Z",
     "start_time": "2020-11-27T17:38:00.437755Z"
    }
   },
   "outputs": [],
   "source": [
    "def find_counterexample():\n",
    "    while True:\n",
    "        n = np.random.randint(6, 20)\n",
    "        _A, _B = AB(n)\n",
    "        if np.sum(_A**4) >= np.sum(_B**4):\n",
    "            cond = np.sum(_A**5) < np.sum(_B**5)\n",
    "            #             print(cond)\n",
    "            if cond:\n",
    "                print(_A)\n",
    "                print(_B)\n",
    "                print(np.sum(_A), np.sum(_A**4), np.sum(_A**5))\n",
    "                print(np.sum(_B), np.sum(_B**4), np.sum(_B**5))\n",
    "                return _A, _B"
   ]
  },
  {
   "cell_type": "code",
   "execution_count": 5,
   "metadata": {
    "ExecuteTime": {
     "end_time": "2020-11-27T17:38:00.823031Z",
     "start_time": "2020-11-27T17:38:00.445084Z"
    }
   },
   "outputs": [
    {
     "name": "stdout",
     "output_type": "stream",
     "text": [
      "[5 8 5 9 4 8 1 3 1 3 8]\n",
      "[5 2 5 1 6 2 9 7 9 7 2]\n",
      "55 20519 165115\n",
      "55 20519 165835\n"
     ]
    }
   ],
   "source": [
    "_A, _B = find_counterexample()"
   ]
  }
 ],
 "metadata": {
  "kernelspec": {
   "display_name": "Python 3",
   "language": "python",
   "name": "python3"
  },
  "language_info": {
   "codemirror_mode": {
    "name": "ipython",
    "version": 3
   },
   "file_extension": ".py",
   "mimetype": "text/x-python",
   "name": "python",
   "nbconvert_exporter": "python",
   "pygments_lexer": "ipython3",
   "version": "3.7.8"
  }
 },
 "nbformat": 4,
 "nbformat_minor": 4
}
