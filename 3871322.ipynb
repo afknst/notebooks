{
 "cells": [
  {
   "cell_type": "code",
   "execution_count": 1,
   "metadata": {
    "ExecuteTime": {
     "end_time": "2020-10-28T02:02:24.550519Z",
     "start_time": "2020-10-28T02:02:24.105773Z"
    }
   },
   "outputs": [],
   "source": [
    "import numpy as np\n",
    "import matplotlib.pyplot as plt\n",
    "from scipy.stats import norm\n",
    "from scipy import special\n",
    "from scipy.integrate import quad"
   ]
  },
  {
   "cell_type": "code",
   "execution_count": 2,
   "metadata": {
    "ExecuteTime": {
     "end_time": "2020-10-28T02:02:24.561565Z",
     "start_time": "2020-10-28T02:02:24.552512Z"
    }
   },
   "outputs": [],
   "source": [
    "def lattice(N=100, d=4):\n",
    "    # Lattice used in QMC\n",
    "    n = N + 1\n",
    "    z = np.zeros(d)\n",
    "    a_korobov = 14471.\n",
    "    for i in np.arange(d):\n",
    "        z[i] = a_korobov**i % n\n",
    "\n",
    "    U_lattice = np.zeros((n, d))\n",
    "    for m in np.arange(n):\n",
    "        U_lattice[m, :] = ((z * m) / n) % 1\n",
    "\n",
    "    return U_lattice[1:]\n",
    "\n",
    "\n",
    "def ppf(x):\n",
    "    # ppf of G\n",
    "    return np.array([norm.ppf(xi) for xi in x])\n",
    "\n",
    "\n",
    "def norm_inf(x):\n",
    "    return np.max(np.abs(x))\n",
    "\n",
    "\n",
    "def norm_2(x):\n",
    "    return np.linalg.norm(x)\n",
    "\n",
    "\n",
    "def f(n):\n",
    "    # return the pdf of D\n",
    "    def func(x):\n",
    "        if x < 0:\n",
    "            return 0\n",
    "        return n * np.sqrt(2. / np.pi) * np.exp(-x**2. / 2.) * special.erf(\n",
    "            x / np.sqrt(2.))**(n - 1.)\n",
    "\n",
    "    return func\n",
    "\n",
    "\n",
    "def I_inf(n):\n",
    "    # Numerical result by quad\n",
    "    def func(x):\n",
    "        return x**(n - 1) * special.erfinv(x)\n",
    "\n",
    "    return quad(func, 0, 1)[0] * np.sqrt(2) * n\n",
    "\n",
    "\n",
    "def I_2(n):\n",
    "    return np.sqrt(2) * special.gamma((n + 1) / 2.) / special.gamma(n / 2.)\n",
    "\n",
    "\n",
    "def MC(func, n, M=1000):\n",
    "    # Numerical result by QMC\n",
    "    X = lattice(N=M, d=n)\n",
    "    G = np.array([ppf(x) for x in X])\n",
    "    Y = [func(x) for x in G]\n",
    "    # dY = 1.96 * np.std(Y) / np.sqrt(M)\n",
    "    return np.mean(Y)"
   ]
  },
  {
   "cell_type": "markdown",
   "metadata": {},
   "source": [
    "### Numerical result of $\\mathbb E(\\|G\\|_\\infty)$"
   ]
  },
  {
   "cell_type": "code",
   "execution_count": 3,
   "metadata": {
    "ExecuteTime": {
     "end_time": "2020-10-28T02:02:25.227309Z",
     "start_time": "2020-10-28T02:02:24.565914Z"
    }
   },
   "outputs": [
    {
     "name": "stdout",
     "output_type": "stream",
     "text": [
      "1.563843942533445\n",
      "1.5698337169890155\n"
     ]
    }
   ],
   "source": [
    "func = norm_inf\n",
    "n = 5\n",
    "print(MC(func, n))\n",
    "print(I_inf(n))"
   ]
  },
  {
   "cell_type": "markdown",
   "metadata": {},
   "source": [
    "### Numerical result of $\\mathbb E(\\|G\\|_2)$"
   ]
  },
  {
   "cell_type": "code",
   "execution_count": 4,
   "metadata": {
    "ExecuteTime": {
     "end_time": "2020-10-28T02:02:25.916563Z",
     "start_time": "2020-10-28T02:02:25.228882Z"
    }
   },
   "outputs": [
    {
     "name": "stdout",
     "output_type": "stream",
     "text": [
      "2.1205185165045912\n",
      "2.1276921621409746\n"
     ]
    }
   ],
   "source": [
    "func = norm_2\n",
    "n = 5\n",
    "print(MC(func, n))\n",
    "print(I_2(n))"
   ]
  },
  {
   "cell_type": "markdown",
   "metadata": {},
   "source": [
    "### Plot the pdf of $D=\\|G\\|_\\infty$"
   ]
  },
  {
   "cell_type": "code",
   "execution_count": 5,
   "metadata": {
    "ExecuteTime": {
     "end_time": "2020-10-28T02:02:26.082179Z",
     "start_time": "2020-10-28T02:02:25.918576Z"
    }
   },
   "outputs": [
    {
     "data": {
      "image/png": "[encoded data removed]",
      "text/plain": [
       "<Figure size 432x288 with 1 Axes>"
      ]
     },
     "metadata": {
      "needs_background": "light"
     },
     "output_type": "display_data"
    }
   ],
   "source": [
    "n = 4\n",
    "\n",
    "X = np.linspace(0, 10, 100)\n",
    "Y = [f(n)(_) for _ in X]\n",
    "\n",
    "fig, ax = plt.subplots()\n",
    "ax.plot(X, Y, \"r-\")\n",
    "plt.show()"
   ]
  }
 ],
 "metadata": {
  "kernelspec": {
   "display_name": "Python 3",
   "language": "python",
   "name": "python3"
  },
  "language_info": {
   "codemirror_mode": {
    "name": "ipython",
    "version": 3
   },
   "file_extension": ".py",
   "mimetype": "text/x-python",
   "name": "python",
   "nbconvert_exporter": "python",
   "pygments_lexer": "ipython3",
   "version": "3.7.8"
  }
 },
 "nbformat": 4,
 "nbformat_minor": 4
}
